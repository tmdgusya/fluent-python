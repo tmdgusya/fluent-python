{
 "cells": [
  {
   "cell_type": "markdown",
   "metadata": {},
   "source": [
    "# 내장 시퀀스 개요\n",
    "\n",
    "- **컨테이너 시퀀스**: 서로 다른 자료형의 항목을 담을 수 있는 자료구조(list, tuple, collections.deque)\n",
    "- **균일 시퀀스**: 단 하나의 자료형만 담을 수 있는 자료구조(str, bytes, array.array)"
   ]
  },
  {
   "cell_type": "code",
   "execution_count": 3,
   "metadata": {},
   "outputs": [
    {
     "data": {
      "text/plain": [
       "True"
      ]
     },
     "execution_count": 3,
     "metadata": {},
     "output_type": "execute_result"
    }
   ],
   "source": [
    "from collections import abc\n",
    "issubclass(tuple, abc.Sequence)"
   ]
  },
  {
   "cell_type": "code",
   "execution_count": 4,
   "metadata": {},
   "outputs": [
    {
     "data": {
      "text/plain": [
       "True"
      ]
     },
     "execution_count": 4,
     "metadata": {},
     "output_type": "execute_result"
    }
   ],
   "source": [
    "issubclass(list, abc.MutableSequence)"
   ]
  },
  {
   "cell_type": "code",
   "execution_count": 6,
   "metadata": {},
   "outputs": [
    {
     "data": {
      "text/plain": [
       "[36, 33, 36, 64, 33, 36, 33, 35]"
      ]
     },
     "execution_count": 6,
     "metadata": {},
     "output_type": "execute_result"
    }
   ],
   "source": [
    "symbols = \"$!$@!$!#\"\n",
    "\n",
    "codes = []\n",
    "for symbol in symbols:\n",
    "    codes.append(ord(symbol))\n",
    "\n",
    "codes"
   ]
  },
  {
   "cell_type": "code",
   "execution_count": 7,
   "metadata": {},
   "outputs": [
    {
     "data": {
      "text/plain": [
       "[36, 33, 36, 64, 33, 36, 33, 35]"
      ]
     },
     "execution_count": 7,
     "metadata": {},
     "output_type": "execute_result"
    }
   ],
   "source": [
    "\"\"\"\n",
    "파이썬에서 List comprehnesion 만드는 방법 => 책에서는 이를 지능형 리스트 라고 칭한다.\n",
    "\"\"\"\n",
    "symbols = \"$!$@!$!#\"\n",
    "\n",
    "codes = [ord(symbol) for symbol in symbols]\n",
    "codes"
   ]
  },
  {
   "cell_type": "code",
   "execution_count": 8,
   "metadata": {},
   "outputs": [
    {
     "data": {
      "text/plain": [
       "[36, 36, 64, 36, 35]"
      ]
     },
     "execution_count": 8,
     "metadata": {},
     "output_type": "execute_result"
    }
   ],
   "source": [
    "\"\"\"\n",
    "List comprehension 을 이용하면 기본적으로 lambda 를 사용하지 않고도 map() 과 filter() 가 수행하는 모든 작업을 구현할 수 있다.\n",
    "\"\"\"\n",
    "\n",
    "symbols = \"$!$@!$!#\"\n",
    "\n",
    "aa = [ord(s) for s in symbols if ord(s) > 33]\n",
    "aa"
   ]
  },
  {
   "cell_type": "code",
   "execution_count": 9,
   "metadata": {},
   "outputs": [
    {
     "data": {
      "text/plain": [
       "[36, 36, 64, 36, 35]"
      ]
     },
     "execution_count": 9,
     "metadata": {},
     "output_type": "execute_result"
    }
   ],
   "source": [
    "list(filter(lambda s: s > 33, map(ord, symbols)))"
   ]
  },
  {
   "cell_type": "code",
   "execution_count": 11,
   "metadata": {},
   "outputs": [
    {
     "data": {
      "text/plain": [
       "[36, 36, 64, 36, 35]"
      ]
     },
     "execution_count": 11,
     "metadata": {},
     "output_type": "execute_result"
    }
   ],
   "source": [
    "\"\"\"\n",
    "파이썬에서 제너레이터 표현식을 이용하면 메모리 효율적으로 데이터를 생성할 수 있다.\n",
    "\n",
    "제너레이터 표현식을 사용하면 백만개의 데이터를 넘길때 굳이 백만개의 데이터의 리스트를 만들 필요가 없다.\n",
    "\"\"\"\n",
    "symbols = \"$!$@!$!#\"\n",
    "\n",
    "_aa = (ord(s) for s in symbols if ord(s) > 33)\n",
    "_aa\n",
    "\n",
    "list(_aa)"
   ]
  },
  {
   "cell_type": "code",
   "execution_count": 13,
   "metadata": {},
   "outputs": [
    {
     "name": "stdout",
     "output_type": "stream",
     "text": [
      "0 1 [2, 3, 4]\n"
     ]
    },
    {
     "data": {
      "text/plain": [
       "(0, 1, [2])"
      ]
     },
     "execution_count": 13,
     "metadata": {},
     "output_type": "execute_result"
    }
   ],
   "source": [
    "a, b, *rest = range(5)\n",
    "print(a, b, rest)\n",
    "\n",
    "a, b, *rest = range(3)\n",
    "a, b, rest"
   ]
  },
  {
   "cell_type": "code",
   "execution_count": 14,
   "metadata": {},
   "outputs": [
    {
     "name": "stdout",
     "output_type": "stream",
     "text": [
      "                |  latitude | longitude\n",
      "Mexico City     |   19.4326 |  -99.1332\n",
      "New York-Newark |   40.8086 |  -74.0204\n",
      "Sao Paulo       |  -23.5478 |  -46.6358\n"
     ]
    }
   ],
   "source": [
    "metro_areas = [\n",
    "    (\"Tokyo\", \"JP\", 36.933, (35.689722, 139.775000)),\n",
    "    (\"Delhi NCR\", \"IN\", 21.935, (28.613889, 77.208889)),\n",
    "    (\"Mexico City\", \"MX\", 20.142, (19.432611, -99.133222)),\n",
    "    (\"New York-Newark\", \"US\", 20.104, (40.808611, -74.020386)),\n",
    "    (\"Sao Paulo\", \"BR\", 19.649, (-23.547778, -46.635833)),\n",
    "]\n",
    "\n",
    "def main():\n",
    "    print(f\"{'':15} | {'latitude':>9} | {'longitude':>9}\")\n",
    "    for name, cc, pop, (latitude, longitude) in metro_areas:\n",
    "        if longitude <= 0:\n",
    "            print(f\"{name:15} | {latitude:9.4f} | {longitude:9.4f}\")\n",
    "\n",
    "main()"
   ]
  },
  {
   "cell_type": "code",
   "execution_count": 15,
   "metadata": {},
   "outputs": [
    {
     "name": "stdout",
     "output_type": "stream",
     "text": [
      "                |  latitude | longitude\n",
      "Mexico City     |   19.4326 |  -99.1332\n",
      "New York-Newark |   40.8086 |  -74.0204\n",
      "Sao Paulo       |  -23.5478 |  -46.6358\n"
     ]
    }
   ],
   "source": [
    "\"\"\"\n",
    "\n",
    "\"\"\"\n",
    "metro_areas = [\n",
    "    (\"Tokyo\", \"JP\", 36.933, (35.689722, 139.775000)),\n",
    "    (\"Delhi NCR\", \"IN\", 21.935, (28.613889, 77.208889)),\n",
    "    (\"Mexico City\", \"MX\", 20.142, (19.432611, -99.133222)),\n",
    "    (\"New York-Newark\", \"US\", 20.104, (40.808611, -74.020386)),\n",
    "    (\"Sao Paulo\", \"BR\", 19.649, (-23.547778, -46.635833)),\n",
    "]\n",
    "\n",
    "def main():\n",
    "    print(f\"{'':15} | {'latitude':>9} | {'longitude':>9}\")\n",
    "    for record in metro_areas:\n",
    "        match record:\n",
    "            case [name, _, _, (latitude, longitude)]:\n",
    "                if longitude <= 0:\n",
    "                    print(f\"{name:15} | {latitude:9.4f} | {longitude:9.4f}\")\n",
    "main()"
   ]
  },
  {
   "cell_type": "code",
   "execution_count": 19,
   "metadata": {},
   "outputs": [],
   "source": [
    "class Point:\n",
    "    x: int\n",
    "    y: int\n",
    "\n",
    "    def __init__(self, x, y):\n",
    "        self.x = x\n",
    "        self.y = y\n",
    "\n",
    "p1 = Point(10, 20)"
   ]
  },
  {
   "cell_type": "code",
   "execution_count": 21,
   "metadata": {},
   "outputs": [
    {
     "name": "stdout",
     "output_type": "stream",
     "text": [
      "Origin\n"
     ]
    }
   ],
   "source": [
    "data = Point(0, 0)\n",
    "\n",
    "match data:\n",
    "    case Point(x=0, y=0):\n",
    "        print(\"Origin\")\n",
    "    case Point(x=0, y=y):\n",
    "        print(f\"Y= {y}\")\n",
    "    case Point(x=x, y=0):\n",
    "        print(f\"X= {x}\")"
   ]
  },
  {
   "cell_type": "code",
   "execution_count": 22,
   "metadata": {},
   "outputs": [
    {
     "data": {
      "text/plain": [
       "['apple',\n",
       " 'apple',\n",
       " 'apple',\n",
       " 'banana',\n",
       " 'banana',\n",
       " 'banana',\n",
       " 'orange',\n",
       " 'orange',\n",
       " 'orange',\n",
       " 'pear',\n",
       " 'pear',\n",
       " 'pear']"
      ]
     },
     "execution_count": 22,
     "metadata": {},
     "output_type": "execute_result"
    }
   ],
   "source": [
    "fruits = [\"banana\", \"apple\", \"orange\", \"pear\", \"banana\", \"apple\", \"orange\", \"pear\", \"banana\", \"apple\", \"orange\", \"pear\"]\n",
    "sorted(fruits)"
   ]
  },
  {
   "cell_type": "code",
   "execution_count": 23,
   "metadata": {},
   "outputs": [
    {
     "data": {
      "text/plain": [
       "['pear',\n",
       " 'pear',\n",
       " 'pear',\n",
       " 'apple',\n",
       " 'apple',\n",
       " 'apple',\n",
       " 'banana',\n",
       " 'orange',\n",
       " 'banana',\n",
       " 'orange',\n",
       " 'banana',\n",
       " 'orange']"
      ]
     },
     "execution_count": 23,
     "metadata": {},
     "output_type": "execute_result"
    }
   ],
   "source": [
    "sorted(fruits, key=len)"
   ]
  },
  {
   "cell_type": "code",
   "execution_count": null,
   "metadata": {},
   "outputs": [],
   "source": [
    "sorted(fruits, key=len, reverse=True)"
   ]
  }
 ],
 "metadata": {
  "kernelspec": {
   "display_name": ".venv",
   "language": "python",
   "name": "python3"
  },
  "language_info": {
   "codemirror_mode": {
    "name": "ipython",
    "version": 3
   },
   "file_extension": ".py",
   "mimetype": "text/x-python",
   "name": "python",
   "nbconvert_exporter": "python",
   "pygments_lexer": "ipython3",
   "version": "3.13.2"
  }
 },
 "nbformat": 4,
 "nbformat_minor": 2
}
